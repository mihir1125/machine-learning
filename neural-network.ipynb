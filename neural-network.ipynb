{
  "cells": [
    {
      "cell_type": "code",
      "execution_count": 1,
      "metadata": {
        "id": "ON0J1RLFXEny"
      },
      "outputs": [],
      "source": [
        "import numpy as np\n",
        "import matplotlib.pyplot as plt\n",
        "import tensorflow as tf\n",
        "import logging\n",
        "logging.getLogger(\"tensorflow\").setLevel(logging.ERROR)\n",
        "tf.autograph.set_verbosity(0)"
      ]
    },
    {
      "cell_type": "code",
      "source": [
        "#@title Helper functions\n",
        "def load_coffee_data():\n",
        "    \"\"\" Creates a coffee roasting data set.\n",
        "        roasting duration: 12-15 minutes is best\n",
        "        temperature range: 175-260C is best\n",
        "    \"\"\"\n",
        "    rng = np.random.default_rng(2)\n",
        "    X = rng.random(400).reshape(-1,2)\n",
        "    X[:,1] = X[:,1] * 4 + 11.5          # 12-15 min is best\n",
        "    X[:,0] = X[:,0] * (285-150) + 150  # 350-500 F (175-260 C) is best\n",
        "    Y = np.zeros(len(X))\n",
        "\n",
        "    i=0\n",
        "    for t,d in X:\n",
        "        y = -3/(260-175)*t + 21\n",
        "        if (t > 175 and t < 260 and d > 12 and d < 15 and d<=y ):\n",
        "            Y[i] = 1\n",
        "        else:\n",
        "            Y[i] = 0\n",
        "        i += 1\n",
        "\n",
        "    return (X, Y.reshape(-1,1))"
      ],
      "metadata": {
        "cellView": "form",
        "id": "D4ykn75AYvi_"
      },
      "execution_count": 2,
      "outputs": []
    },
    {
      "cell_type": "markdown",
      "source": [
        "## Dataset"
      ],
      "metadata": {
        "id": "Bj9tngFcY9xV"
      }
    },
    {
      "cell_type": "code",
      "source": [
        "X,Y = load_coffee_data();\n",
        "print(X.shape, Y.shape)"
      ],
      "metadata": {
        "id": "0TlTwnXAY_KZ",
        "outputId": "61697db5-e45b-40c5-c7e3-7b75f37db469",
        "colab": {
          "base_uri": "https://localhost:8080/"
        }
      },
      "execution_count": 3,
      "outputs": [
        {
          "output_type": "stream",
          "name": "stdout",
          "text": [
            "(200, 2) (200, 1)\n"
          ]
        }
      ]
    },
    {
      "cell_type": "markdown",
      "source": [
        "## Normalize the data"
      ],
      "metadata": {
        "id": "q_wW_PeYc0yq"
      }
    },
    {
      "cell_type": "code",
      "source": [
        "norm_l = tf.keras.layers.Normalization(axis = -1)\n",
        "norm_l.adapt(X)\n",
        "Xn = norm_l(X) # Normalized X"
      ],
      "metadata": {
        "id": "w4mbVX3Cc3_t"
      },
      "execution_count": 4,
      "outputs": []
    },
    {
      "cell_type": "code",
      "source": [
        "# Tile data to increase training set size and decrease the number of training epochs\n",
        "X_train = np.tile(Xn, (1000, 1))\n",
        "Y_train = np.tile(Y, (1000, 1))\n",
        "print(X_train.shape, Y_train.shape)"
      ],
      "metadata": {
        "id": "NZZ7qHPmdapg",
        "outputId": "0804f880-25f0-48ed-be8a-c3d87fa3a236",
        "colab": {
          "base_uri": "https://localhost:8080/"
        }
      },
      "execution_count": 5,
      "outputs": [
        {
          "output_type": "stream",
          "name": "stdout",
          "text": [
            "(200000, 2) (200000, 1)\n"
          ]
        }
      ]
    },
    {
      "cell_type": "markdown",
      "source": [
        "## Tensorflow Model"
      ],
      "metadata": {
        "id": "JTfYahq6d7Ue"
      }
    },
    {
      "cell_type": "markdown",
      "source": [
        "### Model"
      ],
      "metadata": {
        "id": "LduRw8-U_t_L"
      }
    },
    {
      "cell_type": "code",
      "source": [
        "tf.random.set_seed(1234)\n",
        "model = tf.keras.models.Sequential ([\n",
        "    tf.keras.Input(shape = (2, )),\n",
        "    tf.keras.layers.Dense(3, activation = 'sigmoid', name = 'layer1'),\n",
        "    tf.keras.layers.Dense(1, activation = 'sigmoid', name = 'layer2')\n",
        "])\n",
        "\n",
        "model.summary()"
      ],
      "metadata": {
        "id": "CenL9Ch8d8rw",
        "outputId": "cb31abe7-59ad-40aa-f8a9-10d110c0f5f6",
        "colab": {
          "base_uri": "https://localhost:8080/"
        }
      },
      "execution_count": 6,
      "outputs": [
        {
          "output_type": "stream",
          "name": "stdout",
          "text": [
            "Model: \"sequential\"\n",
            "_________________________________________________________________\n",
            " Layer (type)                Output Shape              Param #   \n",
            "=================================================================\n",
            " layer1 (Dense)              (None, 3)                 9         \n",
            "                                                                 \n",
            " layer2 (Dense)              (None, 1)                 4         \n",
            "                                                                 \n",
            "=================================================================\n",
            "Total params: 13 (52.00 Byte)\n",
            "Trainable params: 13 (52.00 Byte)\n",
            "Non-trainable params: 0 (0.00 Byte)\n",
            "_________________________________________________________________\n"
          ]
        }
      ]
    },
    {
      "cell_type": "code",
      "source": [
        "def print_weights():\n",
        "    W1, b1 = model.get_layer('layer1').get_weights()\n",
        "    W2, b2 = model.get_layer('layer2').get_weights()\n",
        "    print(f\"W1 {W1.shape}:\\n\", W1, f\"\\nb1 {b1.shape}:\\n\", b1)\n",
        "    print(f\"W2 {W2.shape}:\\n\", W2, f\"\\nb2 {b2.shape}:\\n\", b2)\n",
        "print_weights()"
      ],
      "metadata": {
        "id": "eXtNaY8pgSr9"
      },
      "execution_count": 14,
      "outputs": []
    },
    {
      "cell_type": "markdown",
      "source": [
        "### Model compile and Model fit"
      ],
      "metadata": {
        "id": "7MNLF_fahKfM"
      }
    },
    {
      "cell_type": "code",
      "source": [
        "model.compile(\n",
        "    loss = tf.keras.losses.BinaryCrossentropy(),\n",
        "    optimizer = tf.keras.optimizers.Adam(learning_rate=0.01)\n",
        ")\n",
        "\n",
        "model.fit(X_train, Y_train, epochs = 10)"
      ],
      "metadata": {
        "id": "XHBX7wzJ_wvZ",
        "outputId": "85e755a7-14ca-4313-b54c-5b1046aa8afe",
        "colab": {
          "base_uri": "https://localhost:8080/"
        }
      },
      "execution_count": 8,
      "outputs": [
        {
          "output_type": "stream",
          "name": "stdout",
          "text": [
            "Epoch 1/10\n",
            "6250/6250 [==============================] - 11s 2ms/step - loss: 0.2017\n",
            "Epoch 2/10\n",
            "6250/6250 [==============================] - 11s 2ms/step - loss: 0.1181\n",
            "Epoch 3/10\n",
            "6250/6250 [==============================] - 9s 1ms/step - loss: 0.0894\n",
            "Epoch 4/10\n",
            "6250/6250 [==============================] - 10s 2ms/step - loss: 0.0213\n",
            "Epoch 5/10\n",
            "6250/6250 [==============================] - 13s 2ms/step - loss: 0.0120\n",
            "Epoch 6/10\n",
            "6250/6250 [==============================] - 11s 2ms/step - loss: 0.0080\n",
            "Epoch 7/10\n",
            "6250/6250 [==============================] - 9s 1ms/step - loss: 0.0055\n",
            "Epoch 8/10\n",
            "6250/6250 [==============================] - 11s 2ms/step - loss: 0.0038\n",
            "Epoch 9/10\n",
            "6250/6250 [==============================] - 11s 2ms/step - loss: 0.0027\n",
            "Epoch 10/10\n",
            "6250/6250 [==============================] - 12s 2ms/step - loss: 0.0019\n"
          ]
        },
        {
          "output_type": "execute_result",
          "data": {
            "text/plain": [
              "<keras.src.callbacks.History at 0x7b2382326e00>"
            ]
          },
          "metadata": {},
          "execution_count": 8
        }
      ]
    },
    {
      "cell_type": "markdown",
      "source": [
        "### Updated weights"
      ],
      "metadata": {
        "id": "pQaMp6B1ATAo"
      }
    },
    {
      "cell_type": "code",
      "source": [
        "print_weights()"
      ],
      "metadata": {
        "id": "EzB1snk3AUzL",
        "outputId": "b13a9d9c-1206-42cd-9d1b-38378d5cc232",
        "colab": {
          "base_uri": "https://localhost:8080/"
        }
      },
      "execution_count": 15,
      "outputs": [
        {
          "output_type": "stream",
          "name": "stdout",
          "text": [
            "W1 (2, 3):\n",
            " [[  0.15976745  14.604166   -10.956867  ]\n",
            " [ 10.412597    12.105809    -0.30317226]] \n",
            "b1 (3,):\n",
            " [ 12.572174    1.9825191 -11.779441 ]\n",
            "W2 (3, 1):\n",
            " [[ 42.586227]\n",
            " [-44.72363 ]\n",
            " [-52.13249 ]] \n",
            "b2 (1,):\n",
            " [-13.182875]\n"
          ]
        }
      ]
    },
    {
      "cell_type": "markdown",
      "source": [
        "### Predictions"
      ],
      "metadata": {
        "id": "tUBy4RQ1BrDK"
      }
    },
    {
      "cell_type": "code",
      "source": [
        "X_test = np.array([\n",
        "    [200,13.9],  # postive example\n",
        "    [200,17]])   # negative example\n",
        "X_testn = norm_l(X_test)\n",
        "predictions = model.predict(X_testn)\n",
        "print(\"predictions = \\n\", predictions)"
      ],
      "metadata": {
        "id": "m0zUziKOBr2C",
        "outputId": "efee9f07-c756-41b3-a859-6c5428125521",
        "colab": {
          "base_uri": "https://localhost:8080/"
        }
      },
      "execution_count": 16,
      "outputs": [
        {
          "output_type": "stream",
          "name": "stdout",
          "text": [
            "1/1 [==============================] - 0s 115ms/step\n",
            "predictions = \n",
            " [[9.9190062e-01]\n",
            " [2.1646481e-07]]\n"
          ]
        }
      ]
    },
    {
      "cell_type": "code",
      "source": [
        "# Applying a threshold\n",
        "\n",
        "yhat = (predictions >= 0.5).astype(int)\n",
        "print(f\"Predictions: \\n\", np.r_[[['X1', 'X2', 'Y_hat']], np.c_[X_test, yhat]])"
      ],
      "metadata": {
        "id": "MYDULC_HCLFD",
        "outputId": "cdec5b12-d91a-4dc3-c956-b9b542f7ef33",
        "colab": {
          "base_uri": "https://localhost:8080/"
        }
      },
      "execution_count": 33,
      "outputs": [
        {
          "output_type": "stream",
          "name": "stdout",
          "text": [
            "Predictions: \n",
            " [['X1' 'X2' 'Y_hat']\n",
            " ['200.0' '13.9' '1.0']\n",
            " ['200.0' '17.0' '0.0']]\n"
          ]
        }
      ]
    }
  ],
  "metadata": {
    "language_info": {
      "name": "python"
    },
    "colab": {
      "provenance": []
    },
    "kernelspec": {
      "name": "python3",
      "display_name": "Python 3"
    }
  },
  "nbformat": 4,
  "nbformat_minor": 0
}