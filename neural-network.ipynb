{
  "cells": [
    {
      "cell_type": "code",
      "execution_count": 4,
      "metadata": {
        "id": "ON0J1RLFXEny"
      },
      "outputs": [],
      "source": [
        "import numpy as np\n",
        "import matplotlib.pyplot as plt\n",
        "import tensorflow as tf\n",
        "import logging\n",
        "logging.getLogger(\"tensorflow\").setLevel(logging.ERROR)\n",
        "tf.autograph.set_verbosity(0)"
      ]
    },
    {
      "cell_type": "code",
      "source": [
        "#@title Helper functions\n",
        "def load_coffee_data():\n",
        "    \"\"\" Creates a coffee roasting data set.\n",
        "        roasting duration: 12-15 minutes is best\n",
        "        temperature range: 175-260C is best\n",
        "    \"\"\"\n",
        "    rng = np.random.default_rng(2)\n",
        "    X = rng.random(400).reshape(-1,2)\n",
        "    X[:,1] = X[:,1] * 4 + 11.5          # 12-15 min is best\n",
        "    X[:,0] = X[:,0] * (285-150) + 150  # 350-500 F (175-260 C) is best\n",
        "    Y = np.zeros(len(X))\n",
        "\n",
        "    i=0\n",
        "    for t,d in X:\n",
        "        y = -3/(260-175)*t + 21\n",
        "        if (t > 175 and t < 260 and d > 12 and d < 15 and d<=y ):\n",
        "            Y[i] = 1\n",
        "        else:\n",
        "            Y[i] = 0\n",
        "        i += 1\n",
        "\n",
        "    return (X, Y.reshape(-1,1))"
      ],
      "metadata": {
        "cellView": "form",
        "id": "D4ykn75AYvi_"
      },
      "execution_count": 5,
      "outputs": []
    },
    {
      "cell_type": "markdown",
      "source": [
        "## Dataset"
      ],
      "metadata": {
        "id": "Bj9tngFcY9xV"
      }
    },
    {
      "cell_type": "code",
      "source": [
        "X,Y = load_coffee_data();\n",
        "print(X.shape, Y.shape)"
      ],
      "metadata": {
        "id": "0TlTwnXAY_KZ",
        "outputId": "e408e5e6-e8ad-4cbe-cfbd-93e3bd48cf56",
        "colab": {
          "base_uri": "https://localhost:8080/"
        }
      },
      "execution_count": 6,
      "outputs": [
        {
          "output_type": "stream",
          "name": "stdout",
          "text": [
            "(200, 2) (200, 1)\n"
          ]
        }
      ]
    },
    {
      "cell_type": "markdown",
      "source": [
        "## Normalize the data"
      ],
      "metadata": {
        "id": "q_wW_PeYc0yq"
      }
    },
    {
      "cell_type": "code",
      "source": [
        "norm_l = tf.keras.layers.Normalization(axis = -1)\n",
        "norm_l.adapt(X)\n",
        "Xn = norm_l(X) # Normalized X"
      ],
      "metadata": {
        "id": "w4mbVX3Cc3_t"
      },
      "execution_count": 9,
      "outputs": []
    },
    {
      "cell_type": "code",
      "source": [
        "# Tile data to increase training set size and decrease the number of training epochs\n",
        "X_train = np.tile(Xn, (1000, 1))\n",
        "Y_train = np.tile(Y, (1000, 1))\n",
        "print(X_train.shape, Y_train.shape)"
      ],
      "metadata": {
        "id": "NZZ7qHPmdapg",
        "outputId": "0bb4f877-4e9e-444e-ea94-0011a4dcf65c",
        "colab": {
          "base_uri": "https://localhost:8080/"
        }
      },
      "execution_count": 11,
      "outputs": [
        {
          "output_type": "stream",
          "name": "stdout",
          "text": [
            "(200000, 2) (200000, 1)\n"
          ]
        }
      ]
    },
    {
      "cell_type": "markdown",
      "source": [
        "## Tensorflow Model"
      ],
      "metadata": {
        "id": "JTfYahq6d7Ue"
      }
    },
    {
      "cell_type": "code",
      "source": [
        "tf.random.set_seed(1234)\n",
        "model = tf.keras.models.Sequential ([\n",
        "    tf.keras.Input(shape = (2, )),\n",
        "    tf.keras.layers.Dense(3, activation = 'sigmoid', name = 'layer1'),\n",
        "    tf.keras.layers.Dense(1, activation = 'sigmoid', name = 'layer2')\n",
        "])\n",
        "\n",
        "model.summary()"
      ],
      "metadata": {
        "id": "CenL9Ch8d8rw",
        "outputId": "c5825392-f40a-47f3-b858-228b34cea988",
        "colab": {
          "base_uri": "https://localhost:8080/"
        }
      },
      "execution_count": 13,
      "outputs": [
        {
          "output_type": "stream",
          "name": "stdout",
          "text": [
            "Model: \"sequential\"\n",
            "_________________________________________________________________\n",
            " Layer (type)                Output Shape              Param #   \n",
            "=================================================================\n",
            " layer1 (Dense)              (None, 3)                 9         \n",
            "                                                                 \n",
            " layer2 (Dense)              (None, 1)                 4         \n",
            "                                                                 \n",
            "=================================================================\n",
            "Total params: 13 (52.00 Byte)\n",
            "Trainable params: 13 (52.00 Byte)\n",
            "Non-trainable params: 0 (0.00 Byte)\n",
            "_________________________________________________________________\n"
          ]
        }
      ]
    },
    {
      "cell_type": "code",
      "source": [
        "W1, b1 = model.get_layer('layer1').get_weights()\n",
        "W2, b2 = model.get_layer('layer2').get_weights()\n",
        "print(f\"W1 {W1.shape}:\", W1, f\"\\nb1 {b1.shape}:\", b1)\n",
        "print(f\"W2 {W2.shape}:\", W2, f\"\\nb2 {b2.shape}:\", b2)"
      ],
      "metadata": {
        "id": "eXtNaY8pgSr9",
        "outputId": "b52a8fac-0e93-4b62-ed0b-e2e518bf0d3e",
        "colab": {
          "base_uri": "https://localhost:8080/"
        }
      },
      "execution_count": 15,
      "outputs": [
        {
          "output_type": "stream",
          "name": "stdout",
          "text": [
            "W1 (2, 3): [[ 1.0463135  -0.40092605  0.42326307]\n",
            " [-0.15899467  0.25358236 -0.82428575]] \n",
            "b1 (3,): [0. 0. 0.]\n",
            "W2 (3, 1): [[-0.35933965]\n",
            " [-0.9581658 ]\n",
            " [-0.44844812]] \n",
            "b2 (1,): [0.]\n"
          ]
        }
      ]
    },
    {
      "cell_type": "markdown",
      "source": [
        "### Model compile and Model fit"
      ],
      "metadata": {
        "id": "7MNLF_fahKfM"
      }
    }
  ],
  "metadata": {
    "language_info": {
      "name": "python"
    },
    "colab": {
      "provenance": []
    },
    "kernelspec": {
      "name": "python3",
      "display_name": "Python 3"
    }
  },
  "nbformat": 4,
  "nbformat_minor": 0
}