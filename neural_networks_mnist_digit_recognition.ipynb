{
  "nbformat": 4,
  "nbformat_minor": 0,
  "metadata": {
    "colab": {
      "provenance": [],
      "authorship_tag": "ABX9TyMmkfh7YdswoX4yaH9I+M+S",
      "include_colab_link": true
    },
    "kernelspec": {
      "name": "python3",
      "display_name": "Python 3"
    },
    "language_info": {
      "name": "python"
    },
    "accelerator": "TPU",
    "widgets": {
      "application/vnd.jupyter.widget-state+json": {
        "3b89dff6d90b4f18ac827c0bf6881dba": {
          "model_module": "@jupyter-widgets/controls",
          "model_name": "HBoxModel",
          "model_module_version": "1.5.0",
          "state": {
            "_dom_classes": [],
            "_model_module": "@jupyter-widgets/controls",
            "_model_module_version": "1.5.0",
            "_model_name": "HBoxModel",
            "_view_count": null,
            "_view_module": "@jupyter-widgets/controls",
            "_view_module_version": "1.5.0",
            "_view_name": "HBoxView",
            "box_style": "",
            "children": [
              "IPY_MODEL_8c6ab318f2114af4b7be73f3c21122ee",
              "IPY_MODEL_81639758c408445dad32822e099ba872",
              "IPY_MODEL_e1e28907f9e44c3cbf32d4d9e3a565a0"
            ],
            "layout": "IPY_MODEL_5141fb961ff349eda96f829349a782b9"
          }
        },
        "8c6ab318f2114af4b7be73f3c21122ee": {
          "model_module": "@jupyter-widgets/controls",
          "model_name": "HTMLModel",
          "model_module_version": "1.5.0",
          "state": {
            "_dom_classes": [],
            "_model_module": "@jupyter-widgets/controls",
            "_model_module_version": "1.5.0",
            "_model_name": "HTMLModel",
            "_view_count": null,
            "_view_module": "@jupyter-widgets/controls",
            "_view_module_version": "1.5.0",
            "_view_name": "HTMLView",
            "description": "",
            "description_tooltip": null,
            "layout": "IPY_MODEL_a98d6d9ec9a042c6aa8886ae9b75cdbd",
            "placeholder": "​",
            "style": "IPY_MODEL_1b8fde19e07543dc9794f0842918765f",
            "value": "Dl Completed...: 100%"
          }
        },
        "81639758c408445dad32822e099ba872": {
          "model_module": "@jupyter-widgets/controls",
          "model_name": "FloatProgressModel",
          "model_module_version": "1.5.0",
          "state": {
            "_dom_classes": [],
            "_model_module": "@jupyter-widgets/controls",
            "_model_module_version": "1.5.0",
            "_model_name": "FloatProgressModel",
            "_view_count": null,
            "_view_module": "@jupyter-widgets/controls",
            "_view_module_version": "1.5.0",
            "_view_name": "ProgressView",
            "bar_style": "success",
            "description": "",
            "description_tooltip": null,
            "layout": "IPY_MODEL_e4f5b9820b9f4648a63b6fa41c91d63c",
            "max": 5,
            "min": 0,
            "orientation": "horizontal",
            "style": "IPY_MODEL_58bedfff445a4f958206cc454e4bdd5d",
            "value": 5
          }
        },
        "e1e28907f9e44c3cbf32d4d9e3a565a0": {
          "model_module": "@jupyter-widgets/controls",
          "model_name": "HTMLModel",
          "model_module_version": "1.5.0",
          "state": {
            "_dom_classes": [],
            "_model_module": "@jupyter-widgets/controls",
            "_model_module_version": "1.5.0",
            "_model_name": "HTMLModel",
            "_view_count": null,
            "_view_module": "@jupyter-widgets/controls",
            "_view_module_version": "1.5.0",
            "_view_name": "HTMLView",
            "description": "",
            "description_tooltip": null,
            "layout": "IPY_MODEL_b42a8e223099473ab016e5845fcc359f",
            "placeholder": "​",
            "style": "IPY_MODEL_159a3abce90d40399c864c95b13bdd4f",
            "value": " 5/5 [00:00&lt;00:00,  7.38 file/s]"
          }
        },
        "5141fb961ff349eda96f829349a782b9": {
          "model_module": "@jupyter-widgets/base",
          "model_name": "LayoutModel",
          "model_module_version": "1.2.0",
          "state": {
            "_model_module": "@jupyter-widgets/base",
            "_model_module_version": "1.2.0",
            "_model_name": "LayoutModel",
            "_view_count": null,
            "_view_module": "@jupyter-widgets/base",
            "_view_module_version": "1.2.0",
            "_view_name": "LayoutView",
            "align_content": null,
            "align_items": null,
            "align_self": null,
            "border": null,
            "bottom": null,
            "display": null,
            "flex": null,
            "flex_flow": null,
            "grid_area": null,
            "grid_auto_columns": null,
            "grid_auto_flow": null,
            "grid_auto_rows": null,
            "grid_column": null,
            "grid_gap": null,
            "grid_row": null,
            "grid_template_areas": null,
            "grid_template_columns": null,
            "grid_template_rows": null,
            "height": null,
            "justify_content": null,
            "justify_items": null,
            "left": null,
            "margin": null,
            "max_height": null,
            "max_width": null,
            "min_height": null,
            "min_width": null,
            "object_fit": null,
            "object_position": null,
            "order": null,
            "overflow": null,
            "overflow_x": null,
            "overflow_y": null,
            "padding": null,
            "right": null,
            "top": null,
            "visibility": null,
            "width": null
          }
        },
        "a98d6d9ec9a042c6aa8886ae9b75cdbd": {
          "model_module": "@jupyter-widgets/base",
          "model_name": "LayoutModel",
          "model_module_version": "1.2.0",
          "state": {
            "_model_module": "@jupyter-widgets/base",
            "_model_module_version": "1.2.0",
            "_model_name": "LayoutModel",
            "_view_count": null,
            "_view_module": "@jupyter-widgets/base",
            "_view_module_version": "1.2.0",
            "_view_name": "LayoutView",
            "align_content": null,
            "align_items": null,
            "align_self": null,
            "border": null,
            "bottom": null,
            "display": null,
            "flex": null,
            "flex_flow": null,
            "grid_area": null,
            "grid_auto_columns": null,
            "grid_auto_flow": null,
            "grid_auto_rows": null,
            "grid_column": null,
            "grid_gap": null,
            "grid_row": null,
            "grid_template_areas": null,
            "grid_template_columns": null,
            "grid_template_rows": null,
            "height": null,
            "justify_content": null,
            "justify_items": null,
            "left": null,
            "margin": null,
            "max_height": null,
            "max_width": null,
            "min_height": null,
            "min_width": null,
            "object_fit": null,
            "object_position": null,
            "order": null,
            "overflow": null,
            "overflow_x": null,
            "overflow_y": null,
            "padding": null,
            "right": null,
            "top": null,
            "visibility": null,
            "width": null
          }
        },
        "1b8fde19e07543dc9794f0842918765f": {
          "model_module": "@jupyter-widgets/controls",
          "model_name": "DescriptionStyleModel",
          "model_module_version": "1.5.0",
          "state": {
            "_model_module": "@jupyter-widgets/controls",
            "_model_module_version": "1.5.0",
            "_model_name": "DescriptionStyleModel",
            "_view_count": null,
            "_view_module": "@jupyter-widgets/base",
            "_view_module_version": "1.2.0",
            "_view_name": "StyleView",
            "description_width": ""
          }
        },
        "e4f5b9820b9f4648a63b6fa41c91d63c": {
          "model_module": "@jupyter-widgets/base",
          "model_name": "LayoutModel",
          "model_module_version": "1.2.0",
          "state": {
            "_model_module": "@jupyter-widgets/base",
            "_model_module_version": "1.2.0",
            "_model_name": "LayoutModel",
            "_view_count": null,
            "_view_module": "@jupyter-widgets/base",
            "_view_module_version": "1.2.0",
            "_view_name": "LayoutView",
            "align_content": null,
            "align_items": null,
            "align_self": null,
            "border": null,
            "bottom": null,
            "display": null,
            "flex": null,
            "flex_flow": null,
            "grid_area": null,
            "grid_auto_columns": null,
            "grid_auto_flow": null,
            "grid_auto_rows": null,
            "grid_column": null,
            "grid_gap": null,
            "grid_row": null,
            "grid_template_areas": null,
            "grid_template_columns": null,
            "grid_template_rows": null,
            "height": null,
            "justify_content": null,
            "justify_items": null,
            "left": null,
            "margin": null,
            "max_height": null,
            "max_width": null,
            "min_height": null,
            "min_width": null,
            "object_fit": null,
            "object_position": null,
            "order": null,
            "overflow": null,
            "overflow_x": null,
            "overflow_y": null,
            "padding": null,
            "right": null,
            "top": null,
            "visibility": null,
            "width": null
          }
        },
        "58bedfff445a4f958206cc454e4bdd5d": {
          "model_module": "@jupyter-widgets/controls",
          "model_name": "ProgressStyleModel",
          "model_module_version": "1.5.0",
          "state": {
            "_model_module": "@jupyter-widgets/controls",
            "_model_module_version": "1.5.0",
            "_model_name": "ProgressStyleModel",
            "_view_count": null,
            "_view_module": "@jupyter-widgets/base",
            "_view_module_version": "1.2.0",
            "_view_name": "StyleView",
            "bar_color": null,
            "description_width": ""
          }
        },
        "b42a8e223099473ab016e5845fcc359f": {
          "model_module": "@jupyter-widgets/base",
          "model_name": "LayoutModel",
          "model_module_version": "1.2.0",
          "state": {
            "_model_module": "@jupyter-widgets/base",
            "_model_module_version": "1.2.0",
            "_model_name": "LayoutModel",
            "_view_count": null,
            "_view_module": "@jupyter-widgets/base",
            "_view_module_version": "1.2.0",
            "_view_name": "LayoutView",
            "align_content": null,
            "align_items": null,
            "align_self": null,
            "border": null,
            "bottom": null,
            "display": null,
            "flex": null,
            "flex_flow": null,
            "grid_area": null,
            "grid_auto_columns": null,
            "grid_auto_flow": null,
            "grid_auto_rows": null,
            "grid_column": null,
            "grid_gap": null,
            "grid_row": null,
            "grid_template_areas": null,
            "grid_template_columns": null,
            "grid_template_rows": null,
            "height": null,
            "justify_content": null,
            "justify_items": null,
            "left": null,
            "margin": null,
            "max_height": null,
            "max_width": null,
            "min_height": null,
            "min_width": null,
            "object_fit": null,
            "object_position": null,
            "order": null,
            "overflow": null,
            "overflow_x": null,
            "overflow_y": null,
            "padding": null,
            "right": null,
            "top": null,
            "visibility": null,
            "width": null
          }
        },
        "159a3abce90d40399c864c95b13bdd4f": {
          "model_module": "@jupyter-widgets/controls",
          "model_name": "DescriptionStyleModel",
          "model_module_version": "1.5.0",
          "state": {
            "_model_module": "@jupyter-widgets/controls",
            "_model_module_version": "1.5.0",
            "_model_name": "DescriptionStyleModel",
            "_view_count": null,
            "_view_module": "@jupyter-widgets/base",
            "_view_module_version": "1.2.0",
            "_view_name": "StyleView",
            "description_width": ""
          }
        }
      }
    }
  },
  "cells": [
    {
      "cell_type": "markdown",
      "metadata": {
        "id": "view-in-github",
        "colab_type": "text"
      },
      "source": [
        "<a href=\"https://colab.research.google.com/github/mihir1125/machine-learning/blob/master/neural_networks_mnist_digit_recognition.ipynb\" target=\"_parent\"><img src=\"https://colab.research.google.com/assets/colab-badge.svg\" alt=\"Open In Colab\"/></a>"
      ]
    },
    {
      "cell_type": "code",
      "execution_count": 1,
      "metadata": {
        "id": "zSetlodXQs6r"
      },
      "outputs": [],
      "source": [
        "!pip install -q mediapy\n",
        "\n",
        "import numpy as np\n",
        "import tensorflow as tf\n",
        "import tensorflow_datasets as tfds\n",
        "import mediapy as media"
      ]
    },
    {
      "cell_type": "code",
      "source": [
        "#@title Helper functions\n",
        "def label_to_vector(num):\n",
        "    arr = np.zeros(10, dtype=np.uint8)\n",
        "    arr[num] = 1\n",
        "    return arr"
      ],
      "metadata": {
        "id": "uJYvehjapMnV"
      },
      "execution_count": 18,
      "outputs": []
    },
    {
      "cell_type": "code",
      "source": [
        "# Fetch the dataset\n",
        "\n",
        "mnist = tfds.image.MNIST()"
      ],
      "metadata": {
        "id": "4uisig2gRLTO"
      },
      "execution_count": 3,
      "outputs": []
    },
    {
      "cell_type": "code",
      "source": [
        "# Describe the dataset with DatasetInfo\n",
        "\n",
        "print(mnist.info)"
      ],
      "metadata": {
        "colab": {
          "base_uri": "https://localhost:8080/"
        },
        "id": "BI7sVRy-RqQS",
        "outputId": "ea3fb847-d73b-4af8-9b02-d815050c8d4b"
      },
      "execution_count": 4,
      "outputs": [
        {
          "output_type": "stream",
          "name": "stdout",
          "text": [
            "tfds.core.DatasetInfo(\n",
            "    name='mnist',\n",
            "    full_name='mnist/3.0.1',\n",
            "    description=\"\"\"\n",
            "    The MNIST database of handwritten digits.\n",
            "    \"\"\",\n",
            "    homepage='http://yann.lecun.com/exdb/mnist/',\n",
            "    data_dir=PosixGPath('/tmp/tmpyvtsb3twtfds'),\n",
            "    file_format=tfrecord,\n",
            "    download_size=11.06 MiB,\n",
            "    dataset_size=21.00 MiB,\n",
            "    features=FeaturesDict({\n",
            "        'image': Image(shape=(28, 28, 1), dtype=uint8),\n",
            "        'label': ClassLabel(shape=(), dtype=int64, num_classes=10),\n",
            "    }),\n",
            "    supervised_keys=('image', 'label'),\n",
            "    disable_shuffling=False,\n",
            "    splits={\n",
            "        'test': <SplitInfo num_examples=10000, num_shards=1>,\n",
            "        'train': <SplitInfo num_examples=60000, num_shards=1>,\n",
            "    },\n",
            "    citation=\"\"\"@article{lecun2010mnist,\n",
            "      title={MNIST handwritten digit database},\n",
            "      author={LeCun, Yann and Cortes, Corinna and Burges, CJ},\n",
            "      journal={ATT Labs [Online]. Available: http://yann.lecun.com/exdb/mnist},\n",
            "      volume={2},\n",
            "      year={2010}\n",
            "    }\"\"\",\n",
            ")\n"
          ]
        }
      ]
    },
    {
      "cell_type": "code",
      "source": [
        "# Download the data, prepare it, and write it to disk\n",
        "mnist.download_and_prepare()\n",
        "\n",
        "# Load data from disk as tf.data.Datasets\n",
        "datasets = mnist.as_dataset()\n",
        "train_ds, test_ds = datasets['train'], datasets['test']"
      ],
      "metadata": {
        "colab": {
          "base_uri": "https://localhost:8080/",
          "height": 85,
          "referenced_widgets": [
            "3b89dff6d90b4f18ac827c0bf6881dba",
            "8c6ab318f2114af4b7be73f3c21122ee",
            "81639758c408445dad32822e099ba872",
            "e1e28907f9e44c3cbf32d4d9e3a565a0",
            "5141fb961ff349eda96f829349a782b9",
            "a98d6d9ec9a042c6aa8886ae9b75cdbd",
            "1b8fde19e07543dc9794f0842918765f",
            "e4f5b9820b9f4648a63b6fa41c91d63c",
            "58bedfff445a4f958206cc454e4bdd5d",
            "b42a8e223099473ab016e5845fcc359f",
            "159a3abce90d40399c864c95b13bdd4f"
          ]
        },
        "id": "s9M_xgsRnP1O",
        "outputId": "ce0a7564-0e9c-4516-8fa6-e526eafaa43b"
      },
      "execution_count": 5,
      "outputs": [
        {
          "output_type": "stream",
          "name": "stdout",
          "text": [
            "Downloading and preparing dataset 11.06 MiB (download: 11.06 MiB, generated: 21.00 MiB, total: 32.06 MiB) to /root/tensorflow_datasets/mnist/3.0.1...\n"
          ]
        },
        {
          "output_type": "display_data",
          "data": {
            "text/plain": [
              "Dl Completed...:   0%|          | 0/5 [00:00<?, ? file/s]"
            ],
            "application/vnd.jupyter.widget-view+json": {
              "version_major": 2,
              "version_minor": 0,
              "model_id": "3b89dff6d90b4f18ac827c0bf6881dba"
            }
          },
          "metadata": {}
        },
        {
          "output_type": "stream",
          "name": "stdout",
          "text": [
            "Dataset mnist downloaded and prepared to /root/tensorflow_datasets/mnist/3.0.1. Subsequent calls will reuse this data.\n"
          ]
        }
      ]
    },
    {
      "cell_type": "code",
      "source": [
        "X_train = np.array([example['image'].reshape(-1) for example in tfds.as_numpy(train_ds)])\n",
        "y_train = np.array([label_to_vector(example['label']) for example in tfds.as_numpy(train_ds)])"
      ],
      "metadata": {
        "id": "jLMcmVSF2_qx"
      },
      "execution_count": 34,
      "outputs": []
    },
    {
      "cell_type": "code",
      "source": [
        "model = tf.keras.models.Sequential([\n",
        "    tf.keras.Input(shape=(28*28, )),\n",
        "    tf.keras.layers.Dense(49, activation='sigmoid', name='Layer1'),\n",
        "    tf.keras.layers.Dense(25, activation='sigmoid', name='Layer2'),\n",
        "    tf.keras.layers.Dense(10, activation='sigmoid', name='Layer3')\n",
        "], name='my_first_neural_network')\n",
        "\n",
        "model.summary()"
      ],
      "metadata": {
        "colab": {
          "base_uri": "https://localhost:8080/"
        },
        "id": "vnWlgixOoej_",
        "outputId": "17de0927-1903-4272-b8c2-67de0424bc08"
      },
      "execution_count": 7,
      "outputs": [
        {
          "output_type": "stream",
          "name": "stdout",
          "text": [
            "Model: \"my_first_neural_network\"\n",
            "_________________________________________________________________\n",
            " Layer (type)                Output Shape              Param #   \n",
            "=================================================================\n",
            " Layer1 (Dense)              (None, 49)                38465     \n",
            "                                                                 \n",
            " Layer2 (Dense)              (None, 25)                1250      \n",
            "                                                                 \n",
            " Layer3 (Dense)              (None, 10)                260       \n",
            "                                                                 \n",
            "=================================================================\n",
            "Total params: 39,975\n",
            "Trainable params: 39,975\n",
            "Non-trainable params: 0\n",
            "_________________________________________________________________\n"
          ]
        }
      ]
    },
    {
      "cell_type": "code",
      "source": [
        "model.compile(\n",
        "    loss = tf.keras.losses.CategoricalCrossentropy(),\n",
        "    optimizer = tf.keras.optimizers.Adam(0.001)\n",
        ")\n",
        "\n",
        "model.fit(X_train, y_train, epochs=4)"
      ],
      "metadata": {
        "colab": {
          "base_uri": "https://localhost:8080/"
        },
        "id": "VT_Js8kYhNO7",
        "outputId": "040cd1e4-ced0-447c-891a-a41bf9b3ac41"
      },
      "execution_count": 39,
      "outputs": [
        {
          "output_type": "stream",
          "name": "stdout",
          "text": [
            "Epoch 1/4\n",
            "1875/1875 [==============================] - 5s 2ms/step - loss: 0.4343\n",
            "Epoch 2/4\n",
            "1875/1875 [==============================] - 5s 3ms/step - loss: 0.3992\n",
            "Epoch 3/4\n",
            "1875/1875 [==============================] - 5s 2ms/step - loss: 0.3712\n",
            "Epoch 4/4\n",
            "1875/1875 [==============================] - 4s 2ms/step - loss: 0.3648\n"
          ]
        },
        {
          "output_type": "execute_result",
          "data": {
            "text/plain": [
              "<keras.callbacks.History at 0x7df6c10935e0>"
            ]
          },
          "metadata": {},
          "execution_count": 39
        }
      ]
    },
    {
      "cell_type": "code",
      "source": [
        "# Test\n",
        "X_test = np.array([example['image'].reshape(-1) for example in tfds.as_numpy(test_ds)])\n",
        "y_test = np.array([label_to_vector(example['label']) for example in tfds.as_numpy(test_ds)])"
      ],
      "metadata": {
        "id": "aR9FaAfCixOn"
      },
      "execution_count": 41,
      "outputs": []
    },
    {
      "cell_type": "code",
      "source": [
        "eval = model.evaluate(X_test, y_test)\n",
        "print(eval)"
      ],
      "metadata": {
        "colab": {
          "base_uri": "https://localhost:8080/"
        },
        "id": "9nB2wQvljAji",
        "outputId": "fe595470-80d6-457c-fdc5-00287c68b648"
      },
      "execution_count": 42,
      "outputs": [
        {
          "output_type": "stream",
          "name": "stdout",
          "text": [
            "313/313 [==============================] - 1s 2ms/step - loss: 0.3684\n",
            "0.36839643120765686\n"
          ]
        }
      ]
    },
    {
      "cell_type": "code",
      "source": [
        "n = np.random.randint(0, X_test.shape[0]-1)\n",
        "media.show_image(X_test[n].reshape(28, 28, 1))\n",
        "print(X_test[n].shape)\n",
        "y_hat = model.predict(X_test[n].reshape(1, -1))\n",
        "y = y_test[n]\n",
        "print(f\"Actual: {y.argmax()}\\nPrediction: {y_hat.argmax()}\")"
      ],
      "metadata": {
        "colab": {
          "base_uri": "https://localhost:8080/",
          "height": 123
        },
        "id": "GYx1B1WPkAEg",
        "outputId": "cb67a13a-8219-4116-8019-5409781e5ff4"
      },
      "execution_count": 46,
      "outputs": [
        {
          "output_type": "display_data",
          "data": {
            "text/plain": [
              "<IPython.core.display.HTML object>"
            ],
            "text/html": [
              "<table class=\"show_images\" style=\"border-spacing:0px;\"><tr><td style=\"padding:1px;\"><img width=\"28\" height=\"28\" style=\"image-rendering:auto; object-fit:cover;\" src=\"data:image/png;base64,iVBORw0KGgoAAAANSUhEUgAAABwAAAAcCAIAAAD9b0jDAAAAqUlEQVR4nO1UWwoDIQxMezHHk+3cLPFk7cdSVtTiJmuh0M6foPNITET++F3cmjMAANu2iYiZlVL6N2ZmZg4Rkg8nepK7Q3CEnPP8EoDzZgH4LAzZVVVESJIMxDqo31WQpKruMhHe2vIeuRaLu64roKpNQYIYdu9SZRuz8e73WJZ6aHPKeGqimpjDheAm9YadkwZafHWhBElTSutlP/I910+RvLbRMo/fhSdaKzxGr3gZTwAAAABJRU5ErkJggg==\"/></td></tr></table>"
            ]
          },
          "metadata": {}
        },
        {
          "output_type": "stream",
          "name": "stdout",
          "text": [
            "(784,)\n",
            "1/1 [==============================] - 0s 30ms/step\n",
            "Actual: 8\n",
            "Prediction: 7\n"
          ]
        }
      ]
    }
  ]
}