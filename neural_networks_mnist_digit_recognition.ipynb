{
  "nbformat": 4,
  "nbformat_minor": 0,
  "metadata": {
    "colab": {
      "provenance": [],
      "toc_visible": true,
      "authorship_tag": "ABX9TyNqv+DXxiXxxGth9R66N9C6",
      "include_colab_link": true
    },
    "kernelspec": {
      "name": "python3",
      "display_name": "Python 3"
    },
    "language_info": {
      "name": "python"
    },
    "accelerator": "TPU",
    "widgets": {
      "application/vnd.jupyter.widget-state+json": {
        "1e0d685f70cc445a8e0c3a7755cb9b37": {
          "model_module": "@jupyter-widgets/controls",
          "model_name": "HBoxModel",
          "model_module_version": "1.5.0",
          "state": {
            "_dom_classes": [],
            "_model_module": "@jupyter-widgets/controls",
            "_model_module_version": "1.5.0",
            "_model_name": "HBoxModel",
            "_view_count": null,
            "_view_module": "@jupyter-widgets/controls",
            "_view_module_version": "1.5.0",
            "_view_name": "HBoxView",
            "box_style": "",
            "children": [
              "IPY_MODEL_0e6bd5e05437401cab63a86bd77bcdae",
              "IPY_MODEL_3b94af8b85f949dab906cfd8b7a911e2",
              "IPY_MODEL_313a9b5655e74f29b2ec8485161a0a5b"
            ],
            "layout": "IPY_MODEL_a2c2bc9ada8b463f930a025bf65ecd34"
          }
        },
        "0e6bd5e05437401cab63a86bd77bcdae": {
          "model_module": "@jupyter-widgets/controls",
          "model_name": "HTMLModel",
          "model_module_version": "1.5.0",
          "state": {
            "_dom_classes": [],
            "_model_module": "@jupyter-widgets/controls",
            "_model_module_version": "1.5.0",
            "_model_name": "HTMLModel",
            "_view_count": null,
            "_view_module": "@jupyter-widgets/controls",
            "_view_module_version": "1.5.0",
            "_view_name": "HTMLView",
            "description": "",
            "description_tooltip": null,
            "layout": "IPY_MODEL_aa0fb7f696c34c48b054e8ba5cb95b01",
            "placeholder": "​",
            "style": "IPY_MODEL_25693960345f46578a3ac6efec2c15c6",
            "value": "Dl Completed...: 100%"
          }
        },
        "3b94af8b85f949dab906cfd8b7a911e2": {
          "model_module": "@jupyter-widgets/controls",
          "model_name": "FloatProgressModel",
          "model_module_version": "1.5.0",
          "state": {
            "_dom_classes": [],
            "_model_module": "@jupyter-widgets/controls",
            "_model_module_version": "1.5.0",
            "_model_name": "FloatProgressModel",
            "_view_count": null,
            "_view_module": "@jupyter-widgets/controls",
            "_view_module_version": "1.5.0",
            "_view_name": "ProgressView",
            "bar_style": "success",
            "description": "",
            "description_tooltip": null,
            "layout": "IPY_MODEL_7036d71a19854d3fab1c28b2265a3594",
            "max": 5,
            "min": 0,
            "orientation": "horizontal",
            "style": "IPY_MODEL_aee07127235447e197c28da56fa846f0",
            "value": 5
          }
        },
        "313a9b5655e74f29b2ec8485161a0a5b": {
          "model_module": "@jupyter-widgets/controls",
          "model_name": "HTMLModel",
          "model_module_version": "1.5.0",
          "state": {
            "_dom_classes": [],
            "_model_module": "@jupyter-widgets/controls",
            "_model_module_version": "1.5.0",
            "_model_name": "HTMLModel",
            "_view_count": null,
            "_view_module": "@jupyter-widgets/controls",
            "_view_module_version": "1.5.0",
            "_view_name": "HTMLView",
            "description": "",
            "description_tooltip": null,
            "layout": "IPY_MODEL_4241ed57e2e34cee9c71c86559ef27be",
            "placeholder": "​",
            "style": "IPY_MODEL_f03d008c8cd646ba9e88c1f946d0b23e",
            "value": " 5/5 [00:00&lt;00:00, 10.72 file/s]"
          }
        },
        "a2c2bc9ada8b463f930a025bf65ecd34": {
          "model_module": "@jupyter-widgets/base",
          "model_name": "LayoutModel",
          "model_module_version": "1.2.0",
          "state": {
            "_model_module": "@jupyter-widgets/base",
            "_model_module_version": "1.2.0",
            "_model_name": "LayoutModel",
            "_view_count": null,
            "_view_module": "@jupyter-widgets/base",
            "_view_module_version": "1.2.0",
            "_view_name": "LayoutView",
            "align_content": null,
            "align_items": null,
            "align_self": null,
            "border": null,
            "bottom": null,
            "display": null,
            "flex": null,
            "flex_flow": null,
            "grid_area": null,
            "grid_auto_columns": null,
            "grid_auto_flow": null,
            "grid_auto_rows": null,
            "grid_column": null,
            "grid_gap": null,
            "grid_row": null,
            "grid_template_areas": null,
            "grid_template_columns": null,
            "grid_template_rows": null,
            "height": null,
            "justify_content": null,
            "justify_items": null,
            "left": null,
            "margin": null,
            "max_height": null,
            "max_width": null,
            "min_height": null,
            "min_width": null,
            "object_fit": null,
            "object_position": null,
            "order": null,
            "overflow": null,
            "overflow_x": null,
            "overflow_y": null,
            "padding": null,
            "right": null,
            "top": null,
            "visibility": null,
            "width": null
          }
        },
        "aa0fb7f696c34c48b054e8ba5cb95b01": {
          "model_module": "@jupyter-widgets/base",
          "model_name": "LayoutModel",
          "model_module_version": "1.2.0",
          "state": {
            "_model_module": "@jupyter-widgets/base",
            "_model_module_version": "1.2.0",
            "_model_name": "LayoutModel",
            "_view_count": null,
            "_view_module": "@jupyter-widgets/base",
            "_view_module_version": "1.2.0",
            "_view_name": "LayoutView",
            "align_content": null,
            "align_items": null,
            "align_self": null,
            "border": null,
            "bottom": null,
            "display": null,
            "flex": null,
            "flex_flow": null,
            "grid_area": null,
            "grid_auto_columns": null,
            "grid_auto_flow": null,
            "grid_auto_rows": null,
            "grid_column": null,
            "grid_gap": null,
            "grid_row": null,
            "grid_template_areas": null,
            "grid_template_columns": null,
            "grid_template_rows": null,
            "height": null,
            "justify_content": null,
            "justify_items": null,
            "left": null,
            "margin": null,
            "max_height": null,
            "max_width": null,
            "min_height": null,
            "min_width": null,
            "object_fit": null,
            "object_position": null,
            "order": null,
            "overflow": null,
            "overflow_x": null,
            "overflow_y": null,
            "padding": null,
            "right": null,
            "top": null,
            "visibility": null,
            "width": null
          }
        },
        "25693960345f46578a3ac6efec2c15c6": {
          "model_module": "@jupyter-widgets/controls",
          "model_name": "DescriptionStyleModel",
          "model_module_version": "1.5.0",
          "state": {
            "_model_module": "@jupyter-widgets/controls",
            "_model_module_version": "1.5.0",
            "_model_name": "DescriptionStyleModel",
            "_view_count": null,
            "_view_module": "@jupyter-widgets/base",
            "_view_module_version": "1.2.0",
            "_view_name": "StyleView",
            "description_width": ""
          }
        },
        "7036d71a19854d3fab1c28b2265a3594": {
          "model_module": "@jupyter-widgets/base",
          "model_name": "LayoutModel",
          "model_module_version": "1.2.0",
          "state": {
            "_model_module": "@jupyter-widgets/base",
            "_model_module_version": "1.2.0",
            "_model_name": "LayoutModel",
            "_view_count": null,
            "_view_module": "@jupyter-widgets/base",
            "_view_module_version": "1.2.0",
            "_view_name": "LayoutView",
            "align_content": null,
            "align_items": null,
            "align_self": null,
            "border": null,
            "bottom": null,
            "display": null,
            "flex": null,
            "flex_flow": null,
            "grid_area": null,
            "grid_auto_columns": null,
            "grid_auto_flow": null,
            "grid_auto_rows": null,
            "grid_column": null,
            "grid_gap": null,
            "grid_row": null,
            "grid_template_areas": null,
            "grid_template_columns": null,
            "grid_template_rows": null,
            "height": null,
            "justify_content": null,
            "justify_items": null,
            "left": null,
            "margin": null,
            "max_height": null,
            "max_width": null,
            "min_height": null,
            "min_width": null,
            "object_fit": null,
            "object_position": null,
            "order": null,
            "overflow": null,
            "overflow_x": null,
            "overflow_y": null,
            "padding": null,
            "right": null,
            "top": null,
            "visibility": null,
            "width": null
          }
        },
        "aee07127235447e197c28da56fa846f0": {
          "model_module": "@jupyter-widgets/controls",
          "model_name": "ProgressStyleModel",
          "model_module_version": "1.5.0",
          "state": {
            "_model_module": "@jupyter-widgets/controls",
            "_model_module_version": "1.5.0",
            "_model_name": "ProgressStyleModel",
            "_view_count": null,
            "_view_module": "@jupyter-widgets/base",
            "_view_module_version": "1.2.0",
            "_view_name": "StyleView",
            "bar_color": null,
            "description_width": ""
          }
        },
        "4241ed57e2e34cee9c71c86559ef27be": {
          "model_module": "@jupyter-widgets/base",
          "model_name": "LayoutModel",
          "model_module_version": "1.2.0",
          "state": {
            "_model_module": "@jupyter-widgets/base",
            "_model_module_version": "1.2.0",
            "_model_name": "LayoutModel",
            "_view_count": null,
            "_view_module": "@jupyter-widgets/base",
            "_view_module_version": "1.2.0",
            "_view_name": "LayoutView",
            "align_content": null,
            "align_items": null,
            "align_self": null,
            "border": null,
            "bottom": null,
            "display": null,
            "flex": null,
            "flex_flow": null,
            "grid_area": null,
            "grid_auto_columns": null,
            "grid_auto_flow": null,
            "grid_auto_rows": null,
            "grid_column": null,
            "grid_gap": null,
            "grid_row": null,
            "grid_template_areas": null,
            "grid_template_columns": null,
            "grid_template_rows": null,
            "height": null,
            "justify_content": null,
            "justify_items": null,
            "left": null,
            "margin": null,
            "max_height": null,
            "max_width": null,
            "min_height": null,
            "min_width": null,
            "object_fit": null,
            "object_position": null,
            "order": null,
            "overflow": null,
            "overflow_x": null,
            "overflow_y": null,
            "padding": null,
            "right": null,
            "top": null,
            "visibility": null,
            "width": null
          }
        },
        "f03d008c8cd646ba9e88c1f946d0b23e": {
          "model_module": "@jupyter-widgets/controls",
          "model_name": "DescriptionStyleModel",
          "model_module_version": "1.5.0",
          "state": {
            "_model_module": "@jupyter-widgets/controls",
            "_model_module_version": "1.5.0",
            "_model_name": "DescriptionStyleModel",
            "_view_count": null,
            "_view_module": "@jupyter-widgets/base",
            "_view_module_version": "1.2.0",
            "_view_name": "StyleView",
            "description_width": ""
          }
        }
      }
    }
  },
  "cells": [
    {
      "cell_type": "markdown",
      "metadata": {
        "id": "view-in-github",
        "colab_type": "text"
      },
      "source": [
        "<a href=\"https://colab.research.google.com/github/mihir1125/machine-learning/blob/master/neural_networks_mnist_digit_recognition.ipynb\" target=\"_parent\"><img src=\"https://colab.research.google.com/assets/colab-badge.svg\" alt=\"Open In Colab\"/></a>"
      ]
    },
    {
      "cell_type": "code",
      "execution_count": 19,
      "metadata": {
        "id": "zSetlodXQs6r"
      },
      "outputs": [],
      "source": [
        "!pip install -q mediapy\n",
        "\n",
        "import numpy as np\n",
        "import tensorflow as tf\n",
        "import tensorflow_datasets as tfds\n",
        "import mediapy as media\n",
        "\n",
        "from sklearn.metrics import confusion_matrix, ConfusionMatrixDisplay\n",
        "import matplotlib.pyplot as plt"
      ]
    },
    {
      "cell_type": "code",
      "source": [
        "#@title Helper functions\n",
        "def label_to_vector(num):\n",
        "    arr = np.zeros(10)\n",
        "    arr[num] = 1\n",
        "    return arr"
      ],
      "metadata": {
        "id": "uJYvehjapMnV"
      },
      "execution_count": 2,
      "outputs": []
    },
    {
      "cell_type": "code",
      "source": [
        "# Fetch the dataset\n",
        "\n",
        "mnist = tfds.image.MNIST()"
      ],
      "metadata": {
        "id": "4uisig2gRLTO"
      },
      "execution_count": 3,
      "outputs": []
    },
    {
      "cell_type": "code",
      "source": [
        "# Describe the dataset with DatasetInfo\n",
        "\n",
        "print(mnist.info)"
      ],
      "metadata": {
        "colab": {
          "base_uri": "https://localhost:8080/"
        },
        "id": "BI7sVRy-RqQS",
        "outputId": "488d770a-b74d-428f-9332-8e3687bb0656"
      },
      "execution_count": 4,
      "outputs": [
        {
          "output_type": "stream",
          "name": "stdout",
          "text": [
            "tfds.core.DatasetInfo(\n",
            "    name='mnist',\n",
            "    full_name='mnist/3.0.1',\n",
            "    description=\"\"\"\n",
            "    The MNIST database of handwritten digits.\n",
            "    \"\"\",\n",
            "    homepage='http://yann.lecun.com/exdb/mnist/',\n",
            "    data_dir=PosixGPath('/tmp/tmpp9prcqagtfds'),\n",
            "    file_format=tfrecord,\n",
            "    download_size=11.06 MiB,\n",
            "    dataset_size=21.00 MiB,\n",
            "    features=FeaturesDict({\n",
            "        'image': Image(shape=(28, 28, 1), dtype=uint8),\n",
            "        'label': ClassLabel(shape=(), dtype=int64, num_classes=10),\n",
            "    }),\n",
            "    supervised_keys=('image', 'label'),\n",
            "    disable_shuffling=False,\n",
            "    splits={\n",
            "        'test': <SplitInfo num_examples=10000, num_shards=1>,\n",
            "        'train': <SplitInfo num_examples=60000, num_shards=1>,\n",
            "    },\n",
            "    citation=\"\"\"@article{lecun2010mnist,\n",
            "      title={MNIST handwritten digit database},\n",
            "      author={LeCun, Yann and Cortes, Corinna and Burges, CJ},\n",
            "      journal={ATT Labs [Online]. Available: http://yann.lecun.com/exdb/mnist},\n",
            "      volume={2},\n",
            "      year={2010}\n",
            "    }\"\"\",\n",
            ")\n"
          ]
        }
      ]
    },
    {
      "cell_type": "code",
      "source": [
        "# Download the data, prepare it, and write it to disk\n",
        "mnist.download_and_prepare()\n",
        "\n",
        "# Load data from disk as tf.data.Datasets\n",
        "datasets = mnist.as_dataset()\n",
        "train_ds, test_ds = datasets['train'], datasets['test']"
      ],
      "metadata": {
        "colab": {
          "base_uri": "https://localhost:8080/",
          "height": 105,
          "referenced_widgets": [
            "1e0d685f70cc445a8e0c3a7755cb9b37",
            "0e6bd5e05437401cab63a86bd77bcdae",
            "3b94af8b85f949dab906cfd8b7a911e2",
            "313a9b5655e74f29b2ec8485161a0a5b",
            "a2c2bc9ada8b463f930a025bf65ecd34",
            "aa0fb7f696c34c48b054e8ba5cb95b01",
            "25693960345f46578a3ac6efec2c15c6",
            "7036d71a19854d3fab1c28b2265a3594",
            "aee07127235447e197c28da56fa846f0",
            "4241ed57e2e34cee9c71c86559ef27be",
            "f03d008c8cd646ba9e88c1f946d0b23e"
          ]
        },
        "id": "s9M_xgsRnP1O",
        "outputId": "5213a6c3-184f-4bcd-ae8c-45f2ca97a076"
      },
      "execution_count": 5,
      "outputs": [
        {
          "output_type": "stream",
          "name": "stdout",
          "text": [
            "Downloading and preparing dataset 11.06 MiB (download: 11.06 MiB, generated: 21.00 MiB, total: 32.06 MiB) to /root/tensorflow_datasets/mnist/3.0.1...\n"
          ]
        },
        {
          "output_type": "display_data",
          "data": {
            "text/plain": [
              "Dl Completed...:   0%|          | 0/5 [00:00<?, ? file/s]"
            ],
            "application/vnd.jupyter.widget-view+json": {
              "version_major": 2,
              "version_minor": 0,
              "model_id": "1e0d685f70cc445a8e0c3a7755cb9b37"
            }
          },
          "metadata": {}
        },
        {
          "output_type": "stream",
          "name": "stdout",
          "text": [
            "Dataset mnist downloaded and prepared to /root/tensorflow_datasets/mnist/3.0.1. Subsequent calls will reuse this data.\n"
          ]
        }
      ]
    },
    {
      "cell_type": "code",
      "source": [
        "X_train = np.array([example['image'].reshape(-1) for example in tfds.as_numpy(train_ds)])\n",
        "y_train_vector = np.array([label_to_vector(example['label']) for example in tfds.as_numpy(train_ds)])\n",
        "y_train = np.array([example['label'] for example in tfds.as_numpy(train_ds)])\n",
        "\n",
        "# Test\n",
        "X_test = np.array([example['image'].reshape(-1) for example in tfds.as_numpy(test_ds)])\n",
        "y_test_vector = np.array([label_to_vector(example['label']) for example in tfds.as_numpy(test_ds)])\n",
        "y_test = np.array([example['label']  for example in tfds.as_numpy(test_ds)])"
      ],
      "metadata": {
        "id": "jLMcmVSF2_qx"
      },
      "execution_count": 6,
      "outputs": []
    },
    {
      "cell_type": "code",
      "source": [
        "model = tf.keras.models.Sequential([\n",
        "    tf.keras.Input(shape=(784, )),\n",
        "    tf.keras.layers.Dense(49, activation='relu', name='Layer1'),\n",
        "    tf.keras.layers.Dense(25, activation='relu', name='Layer2'),\n",
        "    tf.keras.layers.Dense(10, activation='softmax', name='Layer3')\n",
        "], name='my_first_neural_network')\n",
        "\n",
        "model.summary()"
      ],
      "metadata": {
        "colab": {
          "base_uri": "https://localhost:8080/"
        },
        "id": "vnWlgixOoej_",
        "outputId": "168d4201-fe34-4c53-a5fa-e020b0320e65"
      },
      "execution_count": 7,
      "outputs": [
        {
          "output_type": "stream",
          "name": "stdout",
          "text": [
            "Model: \"my_first_neural_network\"\n",
            "_________________________________________________________________\n",
            " Layer (type)                Output Shape              Param #   \n",
            "=================================================================\n",
            " Layer1 (Dense)              (None, 49)                38465     \n",
            "                                                                 \n",
            " Layer2 (Dense)              (None, 25)                1250      \n",
            "                                                                 \n",
            " Layer3 (Dense)              (None, 10)                260       \n",
            "                                                                 \n",
            "=================================================================\n",
            "Total params: 39,975\n",
            "Trainable params: 39,975\n",
            "Non-trainable params: 0\n",
            "_________________________________________________________________\n"
          ]
        }
      ]
    },
    {
      "cell_type": "code",
      "source": [
        "model.compile(\n",
        "    loss = tf.keras.losses.CategoricalCrossentropy(),\n",
        "    optimizer = tf.keras.optimizers.Adam(0.001),\n",
        "    metrics = [\n",
        "        'Accuracy',\n",
        "        'Precision',\n",
        "        'Recall'\n",
        "    ]\n",
        ")\n",
        "\n",
        "model.fit(X_train, y_train_vector, epochs=10)"
      ],
      "metadata": {
        "colab": {
          "base_uri": "https://localhost:8080/"
        },
        "id": "VT_Js8kYhNO7",
        "outputId": "b48a7f6c-4c2b-48e8-ee9e-523a45820971"
      },
      "execution_count": 8,
      "outputs": [
        {
          "output_type": "stream",
          "name": "stdout",
          "text": [
            "Epoch 1/10\n",
            "1875/1875 [==============================] - 12s 5ms/step - loss: 2.0030 - Accuracy: 0.5787 - precision: 0.8544 - recall: 0.4502\n",
            "Epoch 2/10\n",
            "1875/1875 [==============================] - 11s 6ms/step - loss: 0.6212 - Accuracy: 0.8234 - precision: 0.8913 - recall: 0.7854\n",
            "Epoch 3/10\n",
            "1875/1875 [==============================] - 10s 5ms/step - loss: 0.3655 - Accuracy: 0.9007 - precision: 0.9308 - recall: 0.8825\n",
            "Epoch 4/10\n",
            "1875/1875 [==============================] - 4s 2ms/step - loss: 0.2614 - Accuracy: 0.9296 - precision: 0.9466 - recall: 0.9184\n",
            "Epoch 5/10\n",
            "1875/1875 [==============================] - 4s 2ms/step - loss: 0.2111 - Accuracy: 0.9413 - precision: 0.9540 - recall: 0.9320\n",
            "Epoch 6/10\n",
            "1875/1875 [==============================] - 6s 3ms/step - loss: 0.1930 - Accuracy: 0.9466 - precision: 0.9584 - recall: 0.9394\n",
            "Epoch 7/10\n",
            "1875/1875 [==============================] - 5s 2ms/step - loss: 0.1741 - Accuracy: 0.9513 - precision: 0.9622 - recall: 0.9445\n",
            "Epoch 8/10\n",
            "1875/1875 [==============================] - 5s 2ms/step - loss: 0.1609 - Accuracy: 0.9544 - precision: 0.9634 - recall: 0.9483\n",
            "Epoch 9/10\n",
            "1875/1875 [==============================] - 6s 3ms/step - loss: 0.1442 - Accuracy: 0.9599 - precision: 0.9679 - recall: 0.9543\n",
            "Epoch 10/10\n",
            "1875/1875 [==============================] - 4s 2ms/step - loss: 0.1380 - Accuracy: 0.9610 - precision: 0.9689 - recall: 0.9551\n"
          ]
        },
        {
          "output_type": "execute_result",
          "data": {
            "text/plain": [
              "<keras.callbacks.History at 0x7df3d55afa90>"
            ]
          },
          "metadata": {},
          "execution_count": 8
        }
      ]
    },
    {
      "cell_type": "code",
      "source": [
        "loss, accuracy, precision, recall = model.evaluate(X_test, y_test_vector)\n",
        "print(f\"{loss=}, {accuracy=}, {precision=}, {recall=}\")"
      ],
      "metadata": {
        "colab": {
          "base_uri": "https://localhost:8080/"
        },
        "id": "9nB2wQvljAji",
        "outputId": "2c5a0377-7d99-4786-8ebc-75cfaf50f2ee"
      },
      "execution_count": 9,
      "outputs": [
        {
          "output_type": "stream",
          "name": "stdout",
          "text": [
            "313/313 [==============================] - 1s 2ms/step - loss: 0.1835 - Accuracy: 0.9559 - precision: 0.9621 - recall: 0.9516\n",
            "loss=0.1834549903869629, accuracy=0.9559000134468079, precision=0.9620867371559143, recall=0.9516000151634216\n"
          ]
        }
      ]
    },
    {
      "cell_type": "code",
      "source": [
        "n = np.random.randint(0, X_test.shape[0]-1)\n",
        "media.show_image(X_test[n].reshape(28, 28, 1))\n",
        "print(X_test[n].shape)\n",
        "y_hat = model.predict(X_test[n].reshape(1, -1))\n",
        "y = y_test_vector[n]\n",
        "print(f\"Actual: {y.argmax()}\\nPrediction: {y_hat.argmax()}\")"
      ],
      "metadata": {
        "colab": {
          "base_uri": "https://localhost:8080/",
          "height": 123
        },
        "id": "GYx1B1WPkAEg",
        "outputId": "19cac6da-6f82-4542-bbc6-068e174b0485"
      },
      "execution_count": 10,
      "outputs": [
        {
          "output_type": "display_data",
          "data": {
            "text/plain": [
              "<IPython.core.display.HTML object>"
            ],
            "text/html": [
              "<table class=\"show_images\" style=\"border-spacing:0px;\"><tr><td style=\"padding:1px;\"><img width=\"28\" height=\"28\" style=\"image-rendering:auto; object-fit:cover;\" src=\"data:image/png;base64,iVBORw0KGgoAAAANSUhEUgAAABwAAAAcCAIAAAD9b0jDAAABd0lEQVR4nO2TsYrCQBBA5zCiNouohSRttLQI2MRK8Qv0MwK2AUttbKz8AL8gRUpF0liKjRpE2F4LUUKSSmZiES6Id9wZtDg4XzWz7L6dZXYA3rz5+3w8vpUxlkwmz+czYyyRSACAqqoAsFqtjsej7/uxL69UKofDgYim06nruoiIiEQUBtvttlarxdBls9l+v09ERBQEAd1wm87n8+iI8KtUVdVutxsEQZiGgW3bnucNh0PXdcvlMgBMJpNHyyyVSvv9HhFnsxkijsdjTdNkWU6n0zEee0ez2bxcLvhJp9N5ShexWCwiKRGNRqMXSAuFwmAwOJ1OUWdkWX6BFwAYY+12O/xDsaWMsa+L+Xy+1Wrtdjsi2mw2uVzuZ8n9RNm2bVmWYRjr9bper4uiqChKo9GQJAkAfN9XFIVzHq/SXq/HOb/tTBRzzkVRfETyzexXq1Vd14vFouM4kiSZprlcLj3PsywrXoF3ZDIZQRAAIJVKPSV68/+4Aoez65eAecCjAAAAAElFTkSuQmCC\"/></td></tr></table>"
            ]
          },
          "metadata": {}
        },
        {
          "output_type": "stream",
          "name": "stdout",
          "text": [
            "(784,)\n",
            "1/1 [==============================] - 0s 96ms/step\n",
            "Actual: 5\n",
            "Prediction: 5\n"
          ]
        }
      ]
    },
    {
      "cell_type": "code",
      "source": [
        "# Neural Network with ReLU\n",
        "model2 = tf.keras.models.Sequential([\n",
        "    tf.keras.Input(shape=(28*28,)),\n",
        "    tf.keras.layers.Dense(49, activation='relu', name=\"Layer1\"),\n",
        "    tf.keras.layers.Dense(25, activation='relu', name=\"Layer2\"),\n",
        "    tf.keras.layers.Dense(10, activation='linear', name=\"Layer3\")\n",
        "])\n",
        "\n",
        "model2.summary()\n",
        "\n",
        "model2.compile(\n",
        "    loss = tf.keras.losses.CategoricalCrossentropy(from_logits=True),\n",
        "    optimizer = tf.keras.optimizers.Adam(0.001),\n",
        "    metrics = [\n",
        "        'Accuracy',\n",
        "        'Precision',\n",
        "        'Recall',\n",
        "    ]\n",
        ")\n",
        "\n",
        "model2.fit(X_train, y_train_vector, epochs=10)\n",
        "\n",
        "loss, accuracy, precision, recall = model2.evaluate(X_test, y_test_vector)\n",
        "print(f\"{loss=}, {accuracy=}, {precision=}, {recall=}\")"
      ],
      "metadata": {
        "colab": {
          "base_uri": "https://localhost:8080/"
        },
        "id": "ui678Z0pu6nL",
        "outputId": "69704e82-880e-493f-efd8-51187c3ccfff"
      },
      "execution_count": 11,
      "outputs": [
        {
          "output_type": "stream",
          "name": "stdout",
          "text": [
            "Model: \"sequential\"\n",
            "_________________________________________________________________\n",
            " Layer (type)                Output Shape              Param #   \n",
            "=================================================================\n",
            " Layer1 (Dense)              (None, 49)                38465     \n",
            "                                                                 \n",
            " Layer2 (Dense)              (None, 25)                1250      \n",
            "                                                                 \n",
            " Layer3 (Dense)              (None, 10)                260       \n",
            "                                                                 \n",
            "=================================================================\n",
            "Total params: 39,975\n",
            "Trainable params: 39,975\n",
            "Non-trainable params: 0\n",
            "_________________________________________________________________\n",
            "Epoch 1/10\n",
            "1875/1875 [==============================] - 5s 2ms/step - loss: 1.7654 - Accuracy: 0.6848 - precision: 0.1785 - recall: 0.8168\n",
            "Epoch 2/10\n",
            "1875/1875 [==============================] - 6s 3ms/step - loss: 0.5292 - Accuracy: 0.8608 - precision: 0.1524 - recall: 0.9737\n",
            "Epoch 3/10\n",
            "1875/1875 [==============================] - 5s 2ms/step - loss: 0.3196 - Accuracy: 0.9149 - precision: 0.1319 - recall: 0.9924\n",
            "Epoch 4/10\n",
            "1875/1875 [==============================] - 4s 2ms/step - loss: 0.2377 - Accuracy: 0.9356 - precision: 0.1188 - recall: 0.9974\n",
            "Epoch 5/10\n",
            "1875/1875 [==============================] - 6s 3ms/step - loss: 0.2013 - Accuracy: 0.9450 - precision: 0.1130 - recall: 0.9987\n",
            "Epoch 6/10\n",
            "1875/1875 [==============================] - 4s 2ms/step - loss: 0.1707 - Accuracy: 0.9532 - precision: 0.1089 - recall: 0.9991\n",
            "Epoch 7/10\n",
            "1875/1875 [==============================] - 4s 2ms/step - loss: 0.1463 - Accuracy: 0.9598 - precision: 0.1061 - recall: 0.9996\n",
            "Epoch 8/10\n",
            "1875/1875 [==============================] - 6s 3ms/step - loss: 0.1340 - Accuracy: 0.9632 - precision: 0.1072 - recall: 0.9995\n",
            "Epoch 9/10\n",
            "1875/1875 [==============================] - 4s 2ms/step - loss: 0.1214 - Accuracy: 0.9667 - precision: 0.1073 - recall: 0.9996\n",
            "Epoch 10/10\n",
            "1875/1875 [==============================] - 6s 3ms/step - loss: 0.1140 - Accuracy: 0.9682 - precision: 0.1088 - recall: 0.9992\n",
            "313/313 [==============================] - 1s 2ms/step - loss: 0.2089 - Accuracy: 0.9597 - precision: 0.1086 - recall: 0.9985\n",
            "loss=0.2089240700006485, accuracy=0.9596999883651733, precision=0.10864361375570297, recall=0.9984999895095825\n"
          ]
        }
      ]
    },
    {
      "cell_type": "code",
      "source": [
        "n = np.random.randint(0, X_test.shape[0]-1)\n",
        "media.show_image(X_test[n].reshape(28, 28, 1))\n",
        "print(X_test[n].shape)\n",
        "y_hat = np.array(tf.nn.softmax(model2.predict(X_test[n].reshape(1, -1))))\n",
        "y = y_test[n]\n",
        "print(f\"Actual: {y}\\nPrediction: {y_hat.argmax()}\")"
      ],
      "metadata": {
        "colab": {
          "base_uri": "https://localhost:8080/",
          "height": 123
        },
        "id": "sOh-EkBbBQ3L",
        "outputId": "bab357e9-f573-4030-c185-0cc5f4410afc"
      },
      "execution_count": 12,
      "outputs": [
        {
          "output_type": "display_data",
          "data": {
            "text/plain": [
              "<IPython.core.display.HTML object>"
            ],
            "text/html": [
              "<table class=\"show_images\" style=\"border-spacing:0px;\"><tr><td style=\"padding:1px;\"><img width=\"28\" height=\"28\" style=\"image-rendering:auto; object-fit:cover;\" src=\"data:image/png;base64,iVBORw0KGgoAAAANSUhEUgAAABwAAAAcCAIAAAD9b0jDAAABaUlEQVR4nO3SIavCUBQH8KODORgsWkQR06pgETQZV4zmJRUEv8HUz2AQw5pJsIpBLDLQ7zAVi0EUrmXuev1rEB4v33fTe+/fzj/8OBwO0S/PbDY7n88qxXw+/3w+N5uNSnQ0Gj0ej3K5rEwsFotRFC2XS2UiEa1WKwCWZSkTXdcVQnS73UQioUa0LOt4PJ5OJ9M01YhENB6PAZRKJWWibduMsel0mkql1IiGYYRheL/fC4WCGpGIer0egH6/r0xMJpNBECi+5mAwAADgdrut12vf933fz2Qy8qKmaWEYxnHcarVc151MJtfrNY5jznm9XpdE2+02gOFw+L1Mp9NCiO12K4l+frNWq3012Wx2sVhwziuVioxomuZ+v+ecf0bDMBqNBmOMMeY4juSa1Wr19Xpxzm3b9jzvcDgAmM/nuVxOUiQiXdcvlwuAKIoA7HY7x3E0TZMXP+l0OkKIIAiazaau6z/l/vMH8gYsXLMOJUU/FQAAAABJRU5ErkJggg==\"/></td></tr></table>"
            ]
          },
          "metadata": {}
        },
        {
          "output_type": "stream",
          "name": "stdout",
          "text": [
            "(784,)\n",
            "1/1 [==============================] - 0s 76ms/step\n",
            "Actual: 6\n",
            "Prediction: 6\n"
          ]
        }
      ]
    },
    {
      "cell_type": "code",
      "source": [
        "result_1 = model.predict(X_test)\n",
        "mistakes = [i for i, r in enumerate(result_1) if r.argmax() != y_test[i]]\n",
        "\n",
        "print(f\"Model 1 - Obvious method\")\n",
        "print(f\"Incorrect predictions: {len(mistakes)}\")\n",
        "print()\n",
        "print(f\"Model 2 - Recommended Method\")\n",
        "result_2= model2.predict(X_test)\n",
        "mistakes = [i for i, r in enumerate(result_2) if r.argmax() != y_test[i]]\n",
        "print(f\"Incorrect predictions: {len(mistakes)}\")"
      ],
      "metadata": {
        "colab": {
          "base_uri": "https://localhost:8080/"
        },
        "id": "ffRL1XuBB7Ts",
        "outputId": "012e336b-bd01-4845-98e1-a89d4dabf20f"
      },
      "execution_count": 13,
      "outputs": [
        {
          "output_type": "stream",
          "name": "stdout",
          "text": [
            "313/313 [==============================] - 0s 2ms/step\n",
            "Model 1 - Obvious method\n",
            "Incorrect predictions: 441\n",
            "\n",
            "Model 2 - Recommended Method\n",
            "313/313 [==============================] - 0s 2ms/step\n",
            "Incorrect predictions: 403\n"
          ]
        }
      ]
    },
    {
      "cell_type": "code",
      "source": [
        "labels = list(range(10))\n",
        "plt.close()\n",
        "result_1_processed = [i.argmax() for i in result_1]\n",
        "fig, (ax1, ax2) = plt.subplots(\n",
        "    1, 2,\n",
        "    figsize = (13, 5),\n",
        "    width_ratios = (1, 1),\n",
        "    height_ratios = (1,)\n",
        ")\n",
        "# confusion_matrix_1 = confusion_matrix(y_test, result_1_processed, labels=labels)\n",
        "disp = ConfusionMatrixDisplay.from_predictions(\n",
        "    y_test,\n",
        "    result_1_processed,\n",
        "    ax = ax1)\n",
        "disp.ax_.set_title(\"Model 1 - Obvious Method\")\n",
        "\n",
        "result_2_processed = [i.argmax() for i in result_2]\n",
        "# confusion_matrix_2 = confusion_matrix(y_test, result_2_processed, labels=labels)\n",
        "disp = ConfusionMatrixDisplay.from_predictions(\n",
        "    y_test,\n",
        "    result_2_processed,\n",
        "    ax = ax2)\n",
        "disp.ax_.set_title(\"Model 2 - Recommended Method\")\n",
        "plt.show()"
      ],
      "metadata": {
        "colab": {
          "base_uri": "https://localhost:8080/",
          "height": 468
        },
        "id": "RbMHSgkHjjLD",
        "outputId": "5a968d85-3066-4a84-8c08-9f4e9c7c5965"
      },
      "execution_count": 50,
      "outputs": [
        {
          "output_type": "display_data",
          "data": {
            "text/plain": [
              "<Figure size 1300x500 with 4 Axes>"
            ],
            "image/png": "[encoded data removed]"
          },
          "metadata": {}
        }
      ]
    }
  ]
}