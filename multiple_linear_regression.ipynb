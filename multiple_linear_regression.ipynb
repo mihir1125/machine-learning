{
  "cells": [
    {
      "cell_type": "code",
      "execution_count": 1,
      "metadata": {
        "id": "q7Vda_D7Q8Vs"
      },
      "outputs": [],
      "source": [
        "import copy, math\n",
        "import numpy as np\n",
        "import matplotlib.pyplot as plt\n",
        "np.set_printoptions(precision=2)"
      ]
    },
    {
      "cell_type": "code",
      "source": [
        "# X: Size (sqft), Number of Bedrooms, Number of floors, Age of Home\n",
        "# y: Price (1000s dollars)\n",
        "\n",
        "X_train = np.array([[2104, 5, 1, 45], [1416, 3, 2, 40], [852, 2, 1, 35]])\n",
        "y_train = np.array([460, 232, 178])"
      ],
      "metadata": {
        "id": "x5bpOqv8Rmlw"
      },
      "execution_count": 37,
      "outputs": []
    },
    {
      "cell_type": "code",
      "source": [
        "b_init = 785.1811367994083\n",
        "w_init = np.array([ 0.39133535, 18.75376741, -53.36032453, -26.42131618])"
      ],
      "metadata": {
        "id": "EQHJJs4MmqXj"
      },
      "execution_count": 33,
      "outputs": []
    },
    {
      "cell_type": "code",
      "source": [
        "#@title Functions\n",
        "predict = lambda x, w, b: np.dot(x, w) + b\n",
        "\n",
        "def compute_cost(X, y, w, b):\n",
        "    m = X.shape[0] # No. of training examples\n",
        "    cost = 0.0\n",
        "    for i  in range(m):\n",
        "        f_wb_i = np.dot(X[i], w) + b\n",
        "        cost = cost + (f_wb_i - y[i]) ** 2\n",
        "    cost = cost / (2 * m)\n",
        "    return cost\n",
        "\n",
        "def compute_gradient(X, y, w, b):\n",
        "    m, n = X.shape # No. of examples, features\n",
        "    dJ_dw = np.zeros(n)\n",
        "    dJ_db = 0.\n",
        "\n",
        "    for i in range(m):\n",
        "        err = predict(X[i], w, b) - y[i]\n",
        "        for j in range(n):\n",
        "            dJ_dw[j] = dJ_dw[j] + err * X[i, j]\n",
        "        dJ_db += err\n",
        "    dJ_dw /= m\n",
        "    dJ_db /= m\n",
        "\n",
        "    return dJ_dw, dJ_db\n",
        "\n",
        "def gradient_descent(X, y, w_in, b_in, cost_function, gradient_function, alpha, num_iters):\n",
        "    J_history = [] # For graphing later\n",
        "    w = copy.deepcopy(w_in)\n",
        "    b = b_in\n",
        "\n",
        "    for i in range(num_iters):\n",
        "        dJ_dw, dJ_db = compute_gradient(X, y, w, b)\n",
        "        w = w - alpha * dJ_dw\n",
        "        b = b - alpha * dJ_db\n",
        "        if i < 100_000:\n",
        "            J_history.append(cost_function(X, y, w, b))\n",
        "        if i % math.ceil(num_iters / 10) == 0:\n",
        "            print(f\"Iteration {i:4d}: Cost {J_history[-1]:10.4f}\")\n",
        "    return w, b, J_history\n",
        "\n",
        "def normalize_z_score(X):\n",
        "    X_norm = np.zeros(X.shape)\n",
        "    m, n = X.shape # examples, features\n",
        "    for i in range(n):\n",
        "        mean = X[:, i].mean()\n",
        "        std = X[:, i].std()\n",
        "        for j in range(m):\n",
        "            X_norm[j, i] = (X[j, i] - mean) / std\n",
        "    return X_norm"
      ],
      "metadata": {
        "id": "WKSCDfOXSfpp"
      },
      "execution_count": 55,
      "outputs": []
    },
    {
      "cell_type": "code",
      "source": [
        "# Testing the implementation\n",
        "\n",
        "initial_w = np.zeros_like(w_init)\n",
        "initial_b = 0.\n",
        "\n",
        "iterations = 1_000\n",
        "alpha = 5.0e-7\n",
        "\n",
        "w_final, b_final, J_history = gradient_descent(\n",
        "    X = X_train,\n",
        "    y = y_train,\n",
        "    w_in = initial_w,\n",
        "    b_in = initial_b,\n",
        "    cost_function = compute_cost,\n",
        "    gradient_function = compute_gradient,\n",
        "    alpha = alpha,\n",
        "    num_iters = iterations\n",
        ")"
      ],
      "metadata": {
        "id": "XdWwew5Mj9nE",
        "outputId": "5d747f6b-1a70-44ee-b7c3-0d3ef86868ac",
        "colab": {
          "base_uri": "https://localhost:8080/"
        }
      },
      "execution_count": 57,
      "outputs": [
        {
          "output_type": "stream",
          "name": "stdout",
          "text": [
            "Iteration    0: Cost  2529.4630\n",
            "Iteration  100: Cost   695.9903\n",
            "Iteration  200: Cost   694.9207\n",
            "Iteration  300: Cost   693.8604\n",
            "Iteration  400: Cost   692.8094\n",
            "Iteration  500: Cost   691.7676\n",
            "Iteration  600: Cost   690.7349\n",
            "Iteration  700: Cost   689.7112\n",
            "Iteration  800: Cost   688.6965\n",
            "Iteration  900: Cost   687.6906\n"
          ]
        }
      ]
    },
    {
      "cell_type": "markdown",
      "source": [
        "## Feature scaling"
      ],
      "metadata": {
        "id": "YGPFKG72B7NF"
      }
    },
    {
      "cell_type": "code",
      "source": [
        "# z-score normalization\n",
        "X_norm = normalize_z_score(X_train)\n",
        "\n",
        "initial_w = np.zeros_like(w_init)\n",
        "initial_b = 0.\n",
        "\n",
        "iterations = 1_00\n",
        "alpha = 0.1\n",
        "\n",
        "w_final, b_final, J_history = gradient_descent(\n",
        "    X = X_norm,\n",
        "    y = y_train,\n",
        "    w_in = initial_w,\n",
        "    b_in = initial_b,\n",
        "    cost_function = compute_cost,\n",
        "    gradient_function = compute_gradient,\n",
        "    alpha = alpha,\n",
        "    num_iters = iterations\n",
        ")"
      ],
      "metadata": {
        "id": "MCG-DzJHB4rh",
        "outputId": "5c03ceef-a368-4a24-e693-06b099cb77be",
        "colab": {
          "base_uri": "https://localhost:8080/"
        }
      },
      "execution_count": 58,
      "outputs": [
        {
          "output_type": "stream",
          "name": "stdout",
          "text": [
            "Iteration    0: Cost 37840.4552\n",
            "Iteration   10: Cost  4177.6697\n",
            "Iteration   20: Cost   507.4816\n",
            "Iteration   30: Cost    61.6881\n",
            "Iteration   40: Cost     7.4987\n",
            "Iteration   50: Cost     0.9115\n",
            "Iteration   60: Cost     0.1108\n",
            "Iteration   70: Cost     0.0135\n",
            "Iteration   80: Cost     0.0016\n",
            "Iteration   90: Cost     0.0002\n"
          ]
        }
      ]
    }
  ],
  "metadata": {
    "kernelspec": {
      "display_name": "Python 3",
      "language": "python",
      "name": "python3"
    },
    "language_info": {
      "codemirror_mode": {
        "name": "ipython",
        "version": 3
      },
      "file_extension": ".py",
      "mimetype": "text/x-python",
      "name": "python",
      "nbconvert_exporter": "python",
      "pygments_lexer": "ipython3",
      "version": "3.10.10"
    },
    "colab": {
      "provenance": []
    }
  },
  "nbformat": 4,
  "nbformat_minor": 0
}